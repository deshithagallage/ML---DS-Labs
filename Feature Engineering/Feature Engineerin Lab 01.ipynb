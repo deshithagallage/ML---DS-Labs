{
 "cells": [
  {
   "cell_type": "markdown",
   "metadata": {},
   "source": [
    "## Feature Engineering - Lab 01"
   ]
  },
  {
   "cell_type": "markdown",
   "metadata": {},
   "source": [
    "Importing necessary libraries"
   ]
  },
  {
   "cell_type": "code",
   "execution_count": null,
   "metadata": {},
   "outputs": [],
   "source": [
    "import pandas as pd\n",
    "\n",
    "from sklearn.preprocessing import OneHotEncoder\n",
    "from sklearn.model_selection import train_test_split\n",
    "from sklearn.metrics import accuracy_score\n",
    "\n",
    "from xgboost import XGBClassifier"
   ]
  },
  {
   "cell_type": "code",
   "execution_count": 34,
   "metadata": {},
   "outputs": [
    {
     "name": "stdout",
     "output_type": "stream",
     "text": [
      "Shape of the train data set: (517788, 145)\n",
      "Shape of the validation data set: (172596, 145)\n",
      "Shape of the test data set: (172596, 144)\n"
     ]
    }
   ],
   "source": [
    "# Load the CSV file containing the data set\n",
    "df_train = pd.read_csv('train.csv')\n",
    "print(f\"Shape of the train data set: {df_train.shape}\")\n",
    "\n",
    "df_valid = pd.read_csv('valid.csv')\n",
    "print(f\"Shape of the validation data set: {df_valid.shape}\")\n",
    "\n",
    "df_test = pd.read_csv('X_test.csv')\n",
    "print(f\"Shape of the test data set: {df_test.shape}\")\n"
   ]
  },
  {
   "cell_type": "code",
   "execution_count": null,
   "metadata": {},
   "outputs": [],
   "source": [
    "null_counts = df_train.isnull().sum()\n",
    "print(null_counts)"
   ]
  },
  {
   "cell_type": "code",
   "execution_count": 35,
   "metadata": {},
   "outputs": [
    {
     "name": "stdout",
     "output_type": "stream",
     "text": [
      "(517788, 87)\n",
      "(172596, 87)\n",
      "(172596, 86)\n"
     ]
    }
   ],
   "source": [
    "# Remove columns with more than 50% missing values\n",
    "threshold = 0.5\n",
    "columns_to_drop = df_train.columns[df_train.isnull().mean() > threshold].tolist()\n",
    "\n",
    "df_train.drop(columns_to_drop, axis=1, inplace=True)\n",
    "df_valid.drop(columns_to_drop, axis=1, inplace=True)\n",
    "df_test.drop(columns_to_drop, axis=1, inplace=True)\n",
    "\n",
    "print(df_train.shape)\n",
    "print(df_valid.shape)\n",
    "print(df_test.shape)"
   ]
  },
  {
   "cell_type": "code",
   "execution_count": null,
   "metadata": {},
   "outputs": [],
   "source": [
    "df_test.to_csv('Mid.csv', index=False)"
   ]
  },
  {
   "cell_type": "code",
   "execution_count": 36,
   "metadata": {},
   "outputs": [
    {
     "name": "stdout",
     "output_type": "stream",
     "text": [
      "(517788, 82)\n",
      "(172596, 82)\n",
      "(172596, 81)\n"
     ]
    }
   ],
   "source": [
    "# Get the number of unique values in each column\n",
    "unique_counts = df_train.nunique()\n",
    "\n",
    "# Filter columns with only one unique value\n",
    "constant_columns = unique_counts[unique_counts == 1].index.tolist()\n",
    "\n",
    "df_train.drop(constant_columns, axis=1, inplace=True)\n",
    "df_valid.drop(constant_columns, axis=1, inplace=True)\n",
    "df_test.drop(constant_columns, axis=1, inplace=True)\n",
    "\n",
    "print(df_train.shape)\n",
    "print(df_valid.shape)\n",
    "print(df_test.shape)"
   ]
  },
  {
   "cell_type": "code",
   "execution_count": 37,
   "metadata": {},
   "outputs": [
    {
     "name": "stdout",
     "output_type": "stream",
     "text": [
      "Index(['term', 'grade', 'sub_grade', 'emp_title', 'emp_length',\n",
      "       'home_ownership', 'verification_status', 'issue_d', 'purpose', 'title',\n",
      "       'zip_code', 'addr_state', 'earliest_cr_line', 'initial_list_status',\n",
      "       'last_pymnt_d', 'last_credit_pull_d', 'application_type',\n",
      "       'disbursement_method', 'debt_settlement_flag'],\n",
      "      dtype='object')\n"
     ]
    }
   ],
   "source": [
    "categorical_cols = df_train.select_dtypes(include=['object']).columns\n",
    "print(categorical_cols)"
   ]
  },
  {
   "cell_type": "code",
   "execution_count": 38,
   "metadata": {},
   "outputs": [],
   "source": [
    "# Imput missing values in the categorical columns\n",
    "for col in categorical_cols:\n",
    "    mode_value = df_train[col].mode()[0]\n",
    "\n",
    "    df_train[col] = df_train[col].fillna(mode_value)\n",
    "    df_valid[col] = df_valid[col].fillna(mode_value)\n",
    "    df_test[col] = df_test[col].fillna(mode_value)"
   ]
  },
  {
   "cell_type": "code",
   "execution_count": 40,
   "metadata": {},
   "outputs": [
    {
     "name": "stdout",
     "output_type": "stream",
     "text": [
      "Index(['term', 'grade', 'sub_grade', 'emp_length', 'home_ownership',\n",
      "       'verification_status', 'initial_list_status', 'application_type',\n",
      "       'disbursement_method', 'debt_settlement_flag'],\n",
      "      dtype='object')\n",
      "Index(['emp_title', 'issue_d', 'purpose', 'title', 'zip_code', 'addr_state',\n",
      "       'earliest_cr_line', 'last_pymnt_d', 'last_credit_pull_d'],\n",
      "      dtype='object')\n"
     ]
    }
   ],
   "source": [
    "ordinal_cols = pd.Index(['term', 'grade', 'sub_grade', 'emp_length', 'home_ownership', 'verification_status', 'initial_list_status', 'application_type', 'disbursement_method', 'debt_settlement_flag'])\n",
    "nominal_cols = categorical_cols.drop(ordinal_cols)\n",
    "print(ordinal_cols)\n",
    "print(nominal_cols)"
   ]
  },
  {
   "cell_type": "code",
   "execution_count": 41,
   "metadata": {},
   "outputs": [
    {
     "name": "stdout",
     "output_type": "stream",
     "text": [
      "(517788, 82)\n",
      "(172596, 82)\n",
      "(172596, 81)\n"
     ]
    }
   ],
   "source": [
    "# Perform ordinal encoding on ordinal columns\n",
    "from sklearn.preprocessing import OrdinalEncoder\n",
    "\n",
    "ordinal_encoder = OrdinalEncoder()\n",
    "combined_data = pd.concat([df_train, df_valid])\n",
    "ordinal_encoder.fit(combined_data[ordinal_cols])\n",
    "\n",
    "df_train[ordinal_cols] = ordinal_encoder.transform(df_train[ordinal_cols])\n",
    "df_valid[ordinal_cols] = ordinal_encoder.transform(df_valid[ordinal_cols])\n",
    "df_test[ordinal_cols] = ordinal_encoder.transform(df_test[ordinal_cols])\n",
    "\n",
    "print(df_train.shape)\n",
    "print(df_valid.shape)\n",
    "print(df_test.shape)"
   ]
  },
  {
   "cell_type": "code",
   "execution_count": 60,
   "metadata": {},
   "outputs": [
    {
     "name": "stdout",
     "output_type": "stream",
     "text": [
      "(517788, 82)\n",
      "(172596, 82)\n",
      "(172596, 81)\n"
     ]
    }
   ],
   "source": [
    "from sklearn.preprocessing import LabelEncoder\n",
    "\n",
    "label_encoder = LabelEncoder()\n",
    "\n",
    "for col in nominal_cols:\n",
    "    df_train[col] = label_encoder.fit_transform(df_train[col])\n",
    "    df_valid[col] = label_encoder.transform(df_valid[col])\n",
    "    df_test[col] = label_encoder.transform(df_test[col])\n",
    "\n",
    "print(df_train.shape)\n",
    "print(df_valid.shape)\n",
    "print(df_test.shape)"
   ]
  },
  {
   "cell_type": "code",
   "execution_count": null,
   "metadata": {},
   "outputs": [],
   "source": [
    "# Split the Dataset into Features (X) and Target Variable (y)\n",
    "\n",
    "X_train = df_train.drop(columns=['loan_status']) # Features\n",
    "y_train = df_train['loan_status'] # Target Variable\n",
    "\n",
    "X_val = df_valid.drop(columns=['loan_status']) # Features\n",
    "y_val = df_valid['loan_status'] # Target Variable"
   ]
  },
  {
   "cell_type": "code",
   "execution_count": null,
   "metadata": {},
   "outputs": [],
   "source": [
    "# Train a model with the XGBoost Classifier\n",
    "xgb_model = XGBClassifier()\n",
    "xgb_model.fit(X_train, y_train)"
   ]
  },
  {
   "cell_type": "code",
   "execution_count": null,
   "metadata": {},
   "outputs": [],
   "source": [
    "y_pred = xgb_model.predict(X_val)\n",
    "accuracy = accuracy_score(y_val, y_pred)\n",
    "print(\"Accuracy:\", accuracy)"
   ]
  },
  {
   "cell_type": "code",
   "execution_count": null,
   "metadata": {},
   "outputs": [],
   "source": [
    "# Save the predictions to a CSV file\n",
    "\n",
    "results = pd.DataFrame({'loan_status': y_pred})\n",
    "combined_data = pd.concat([X_val, results], axis=1)\n",
    "combined_data.to_csv('210173T.csv', index=False)"
   ]
  },
  {
   "cell_type": "code",
   "execution_count": null,
   "metadata": {},
   "outputs": [],
   "source": []
  }
 ],
 "metadata": {
  "kernelspec": {
   "display_name": "Python 3",
   "language": "python",
   "name": "python3"
  },
  "language_info": {
   "codemirror_mode": {
    "name": "ipython",
    "version": 3
   },
   "file_extension": ".py",
   "mimetype": "text/x-python",
   "name": "python",
   "nbconvert_exporter": "python",
   "pygments_lexer": "ipython3",
   "version": "3.12.1"
  }
 },
 "nbformat": 4,
 "nbformat_minor": 2
}
